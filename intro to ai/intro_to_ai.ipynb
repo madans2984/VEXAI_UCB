{
 "cells": [
  {
   "cell_type": "markdown",
   "metadata": {},
   "source": [
    "### 1. Symptom Checker\n",
    "\n",
    "Develop a Python program that acts as a basic symptom checker. The program should:\n",
    "\n",
    "Define a dictionary linking symptoms to possible illnesses (simplified).\n",
    "Ask the user about their symptoms (yes/no questions).\n",
    "Based on user responses, identify possible illnesses.\n",
    "Display a message indicating potential illnesses (educational purposes only, not a diagnosis)."
   ]
  },
  {
   "cell_type": "markdown",
   "metadata": {},
   "source": [
    "##### 1.1 Building a Symptom List\n",
    "\n",
    "We'll start by defining a list named symptoms that stores common illnesses like \"fever\", \"cough\", etc. This list will be used to iterate through and ask the user about their symptoms."
   ]
  },
  {
   "cell_type": "code",
   "execution_count": 3,
   "metadata": {},
   "outputs": [],
   "source": [
    "symptoms = []\n"
   ]
  },
  {
   "cell_type": "markdown",
   "metadata": {},
   "source": [
    "##### 1.2 Mapping Symptoms to Illnesses\n",
    "\n",
    "We'll create a dictionary named symptoms_illness. This dictionary will act as a knowledge base. Keys will be symptom names, and values will be lists of possible illnesses associated with those symptoms. For example, \"fever\" could have the value [\"cold\", \"flu\"].\n",
    "\n",
    "Example of dictionary:"
   ]
  },
  {
   "cell_type": "code",
   "execution_count": 2,
   "metadata": {},
   "outputs": [],
   "source": [
    "dict_example = {\n",
    "  \"brand\": \"Ford\",\n",
    "  \"model\": \"Mustang\",\n",
    "  \"year\": 1964\n",
    "}\n"
   ]
  },
  {
   "cell_type": "code",
   "execution_count": 5,
   "metadata": {},
   "outputs": [],
   "source": [
    "symptoms_illness = {}\n"
   ]
  },
  {
   "cell_type": "markdown",
   "metadata": {},
   "source": [
    "##### 1.3 Finding Possible Illnesses\n",
    "\n",
    "We'll iterate through the user-selected symptoms (user_symptoms) and use the symptoms_illness dictionary to find all possible illnesses. We'll use a set named possible_illnesses to store these possibilities, as sets automatically eliminate duplicates. We've already included the user input code so you can assume that user_symptoms will contain all the symptoms the user selects. In the code below, add the lines needed to check the user_symptoms list and return the possible illnesses associated with their symptoms.\n",
    "\n",
    "Hint: This is where you'll use the symptoms_illness dictionary."
   ]
  },
  {
   "cell_type": "code",
   "execution_count": 1,
   "metadata": {},
   "outputs": [],
   "source": [
    "def find_possible_illnesses(symptoms_illness):\n",
    "  \"\"\"\n",
    "  This function analyzes user symptoms and a symptom-illness dictionary to find possible illnesses.\n",
    "\n",
    "  Args:\n",
    "      user_symptoms: A list of user-reported symptoms (strings).\n",
    "      symptoms_illness: A dictionary mapping symptoms to lists of possible illnesses.\n",
    "\n",
    "  Returns:\n",
    "      A set containing all possible illnesses based on the user's symptoms.\n",
    "  \"\"\"\n",
    "  user_symptoms = []\n",
    "  for symptom in symptoms_illness:\n",
    "    answer = input(f\"Do you have {symptom}? (yes/no): \").lower()\n",
    "    if answer == \"yes\":\n",
    "      user_symptoms.append(symptom)\n"
   ]
  },
  {
   "cell_type": "markdown",
   "metadata": {},
   "source": [
    "##### 1.4 Presenting the Results\n",
    "\n",
    "We'll check if the possible_illnesses set is empty (no possible illnesses found). Based on the result, we'll display different messages using conditional statements (if statements).\n",
    "\n",
    "If empty: Print a message like \"Great! You seem to be healthy.\"\n",
    "If not empty: Print a message like \"Based on the symptoms, you might have:\" followed by a loop that iterates through the possible_illnesses set and prints each illness."
   ]
  },
  {
   "cell_type": "code",
   "execution_count": 4,
   "metadata": {},
   "outputs": [],
   "source": [
    "def present_results(possible_illnesses):\n",
    "  \"\"\"\n",
    "  This function presents the results of the symptom analysis.\n",
    "\n",
    "  Args:\n",
    "      possible_illnesses: A set containing potential illnesses.\n",
    "  \"\"\"\n",
    "  pass\n"
   ]
  },
  {
   "cell_type": "code",
   "execution_count": 6,
   "metadata": {},
   "outputs": [
    {
     "name": "stdout",
     "output_type": "stream",
     "text": [
      "Welcome to the Symptom Checker!\n",
      "\n",
      "**Disclaimer:** This program is for informational purposes only and should not be used for self-diagnosis. Always consult a medical professional if you are experiencing any concerning symptoms.\n"
     ]
    }
   ],
   "source": [
    "# DO NOT MODIFY THIS CODE! Run this block when you're ready to test if your checker is working.\n",
    "\n",
    "# Print a welcome message\n",
    "print(\"Welcome to the Symptom Checker!\")\n",
    "\n",
    "# Assuming you've defined symptoms, symptoms_illness, and user_symptoms\n",
    "\n",
    "possible_illnesses = find_possible_illnesses(symptoms_illness)\n",
    "present_results(possible_illnesses)\n",
    "\n",
    "# Disclaimer (important)\n",
    "print(\"\\n**Disclaimer:** This program is for informational purposes only and should not be used for self-diagnosis. Always consult a medical professional if you are experiencing any concerning symptoms.\")\n"
   ]
  }
 ],
 "metadata": {
  "kernelspec": {
   "display_name": "Python 3",
   "language": "python",
   "name": "python3"
  },
  "language_info": {
   "codemirror_mode": {
    "name": "ipython",
    "version": 3
   },
   "file_extension": ".py",
   "mimetype": "text/x-python",
   "name": "python",
   "nbconvert_exporter": "python",
   "pygments_lexer": "ipython3",
   "version": "3.10.12"
  }
 },
 "nbformat": 4,
 "nbformat_minor": 2
}
