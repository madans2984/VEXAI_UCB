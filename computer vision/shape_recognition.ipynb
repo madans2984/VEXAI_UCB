{
 "cells": [
  {
   "cell_type": "markdown",
   "metadata": {},
   "source": [
    "### 1. Shape Recognition\n",
    "\n",
    "This code will recognize shapes using the Intel RealSense camera you can run this code using the run Button\n",
    "When you run the code, 3 windows will appear :\n",
    "\n",
    "A live color image from the camera - this is where you will see the final result\n",
    "\n",
    "A black and white image from the camera\n",
    "\n",
    "A window with 3 sliding bars."
   ]
  },
  {
   "cell_type": "code",
   "execution_count": 3,
   "metadata": {},
   "outputs": [],
   "source": [
    "import numpy as np\n",
    "import cv2\n",
    "import pyrealsense2 as rs"
   ]
  },
  {
   "cell_type": "markdown",
   "metadata": {},
   "source": [
    "##### 1.1 Adjusting Values\n",
    "Run the notebook using the run all button at the top. After you see the windows open, adjust the sliding bars until you can see the shapes clearly in the black and white image you should start seeing some rough outlines in the colored image\n",
    "\n",
    "Note that the Low value HAS to be lower than the High value\n",
    "\n",
    "For example - the Low H must always be lower than the High H in order to work"
   ]
  },
  {
   "cell_type": "markdown",
   "metadata": {},
   "source": [
    "What values did you end at? Did you make any observations or notice any trends?\n",
    "(Remove this line for your answer)"
   ]
  },
  {
   "cell_type": "markdown",
   "metadata": {},
   "source": [
    "##### 1.2 Finish ReturnShape\n",
    "\n",
    "Finish the ReturnShape function. It currently always returns circle. We want it to return the correct shape based on the number of sides. Ask instructors for help, and refer to slides for python syntax.\n",
    "\n",
    "Hint : Use an IF, elif, else statement. First finish triangle, cuboid, and circle, and then try accounting for Triballs"
   ]
  },
  {
   "cell_type": "code",
   "execution_count": 4,
   "metadata": {},
   "outputs": [],
   "source": [
    "def ReturnShape(NumberOfSides):\n",
    "        return \"circle\""
   ]
  },
  {
   "cell_type": "code",
   "execution_count": 5,
   "metadata": {},
   "outputs": [
    {
     "ename": "RuntimeError",
     "evalue": "Frame didn't arrive within 5000",
     "output_type": "error",
     "traceback": [
      "\u001b[0;31m---------------------------------------------------------------------------\u001b[0m",
      "\u001b[0;31mRuntimeError\u001b[0m                              Traceback (most recent call last)",
      "Cell \u001b[0;32mIn[5], line 32\u001b[0m\n\u001b[1;32m     28\u001b[0m font \u001b[38;5;241m=\u001b[39m cv2\u001b[38;5;241m.\u001b[39mFONT_HERSHEY_SIMPLEX\n\u001b[1;32m     30\u001b[0m \u001b[38;5;28;01mwhile\u001b[39;00m \u001b[38;5;28;01mTrue\u001b[39;00m:\n\u001b[1;32m     31\u001b[0m     \u001b[38;5;66;03m# Wait for a frame\u001b[39;00m\n\u001b[0;32m---> 32\u001b[0m     frames \u001b[38;5;241m=\u001b[39m \u001b[43mpipeline\u001b[49m\u001b[38;5;241;43m.\u001b[39;49m\u001b[43mwait_for_frames\u001b[49m\u001b[43m(\u001b[49m\u001b[43m)\u001b[49m\n\u001b[1;32m     33\u001b[0m     color_frame \u001b[38;5;241m=\u001b[39m frames\u001b[38;5;241m.\u001b[39mget_color_frame()\n\u001b[1;32m     35\u001b[0m     \u001b[38;5;28;01mif\u001b[39;00m \u001b[38;5;129;01mnot\u001b[39;00m color_frame:\n",
      "\u001b[0;31mRuntimeError\u001b[0m: Frame didn't arrive within 5000"
     ]
    },
    {
     "ename": "",
     "evalue": "",
     "output_type": "error",
     "traceback": [
      "\u001b[1;31mThe Kernel crashed while executing code in the current cell or a previous cell. \n",
      "\u001b[1;31mPlease review the code in the cell(s) to identify a possible cause of the failure. \n",
      "\u001b[1;31mClick <a href='https://aka.ms/vscodeJupyterKernelCrash'>here</a> for more info. \n",
      "\u001b[1;31mView Jupyter <a href='command:jupyter.viewOutput'>log</a> for further details."
     ]
    }
   ],
   "source": [
    "#! STUDENTS DO NOT CHANGE ANYTHING FROM HERE ON\n",
    "#! DO NOT TOUCH\n",
    "def nothing(x):\n",
    "    pass\n",
    "\n",
    "# Create trackbar window with specified size\n",
    "cv2.namedWindow('Trackbars', cv2.WINDOW_NORMAL)\n",
    "# Set the desired width and height of the window\n",
    "cv2.resizeWindow('Trackbars', 400, 300)\n",
    "\n",
    "# Create trackbars for adjusting the HSV range\n",
    "cv2.createTrackbar('High H', 'Trackbars', 179, 179, nothing)\n",
    "cv2.createTrackbar('Low S', 'Trackbars', 0, 255, nothing)\n",
    "cv2.createTrackbar('High S', 'Trackbars', 255, 255, nothing)\n",
    "cv2.createTrackbar('Low V', 'Trackbars', 0, 255, nothing)\n",
    "cv2.createTrackbar('High V', 'Trackbars', 255, 255, nothing)\n",
    "\n",
    "# Configure RealSense pipeline\n",
    "pipeline = rs.pipeline()\n",
    "config = rs.config()\n",
    "config.enable_stream(rs.stream.color, 640, 480, rs.format.bgr8, 30)\n",
    "\n",
    "# Start streaming\n",
    "pipeline.start(config)\n",
    "\n",
    "# Define font for text\n",
    "font = cv2.FONT_HERSHEY_SIMPLEX\n",
    "\n",
    "while True:\n",
    "    # Wait for a frame\n",
    "    frames = pipeline.wait_for_frames()\n",
    "    color_frame = frames.get_color_frame()\n",
    "\n",
    "    if not color_frame:\n",
    "        continue\n",
    "\n",
    "    # Convert RealSense frame to OpenCV format\n",
    "    frame = np.asanyarray(color_frame.get_data())\n",
    "\n",
    "    # Convert BGR to HSV\n",
    "    hsv = cv2.cvtColor(frame, cv2.COLOR_BGR2HSV)\n",
    "\n",
    "    # Get trackbar positions for HSV ranges\n",
    "    low_h = cv2.getTrackbarPos('Low H', 'Trackbars')\n",
    "    high_h = cv2.getTrackbarPos('High H', 'Trackbars')\n",
    "    low_s = cv2.getTrackbarPos('Low S', 'Trackbars')\n",
    "    high_s = cv2.getTrackbarPos('High S', 'Trackbars')\n",
    "    low_v = cv2.getTrackbarPos('Low V', 'Trackbars')\n",
    "    high_v = cv2.getTrackbarPos('High V', 'Trackbars')\n",
    "\n",
    "    # Create lower and upper HSV boundaries\n",
    "    lower_bound = np.array([low_h, low_s, low_v])\n",
    "    upper_bound = np.array([high_h, high_s, high_v])\n",
    "\n",
    "    # Threshold the HSV image to get only specified colors\n",
    "    mask = cv2.inRange(hsv, lower_bound, upper_bound)\n",
    "\n",
    "    # Find contours in the masked image\n",
    "    contours, _ = cv2.findContours(\n",
    "        mask, cv2.RETR_TREE, cv2.CHAIN_APPROX_SIMPLE)\n",
    "\n",
    "    # Draw contours, label shapes based on area and number of vertices\n",
    "    for cnt in contours:\n",
    "        area = cv2.contourArea(cnt)\n",
    "        approx = cv2.approxPolyDP(cnt, 0.01*cv2.arcLength(cnt, True), True)\n",
    "        x = approx.ravel()[0]\n",
    "        y = approx.ravel()[1]\n",
    "\n",
    "        if area > 400:\n",
    "            cv2.drawContours(frame, [approx], 0, (0, 0, 0), 5)\n",
    "            shape = ReturnShape(len(approx))\n",
    "            cv2.putText(frame, shape, (x, y), font, 1, (0, 0, 0))\n",
    "\n",
    "    cv2.imshow('Color Image', frame)\n",
    "    cv2.imshow('mask', mask)\n",
    "\n",
    "    if cv2.waitKey(1) & 0xFF == ord('q'):\n",
    "        break\n",
    "\n",
    "# Stop streaming\n",
    "pipeline.stop()\n",
    "cv2.destroyAllWindows()"
   ]
  }
 ],
 "metadata": {
  "kernelspec": {
   "display_name": "Python 3",
   "language": "python",
   "name": "python3"
  },
  "language_info": {
   "codemirror_mode": {
    "name": "ipython",
    "version": 3
   },
   "file_extension": ".py",
   "mimetype": "text/x-python",
   "name": "python",
   "nbconvert_exporter": "python",
   "pygments_lexer": "ipython3",
   "version": "3.10.12"
  }
 },
 "nbformat": 4,
 "nbformat_minor": 2
}
