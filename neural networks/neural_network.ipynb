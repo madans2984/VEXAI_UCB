{
 "cells": [
  {
   "cell_type": "markdown",
   "metadata": {},
   "source": [
    "### Neural Networks\n",
    "\n",
    "In this worksheet, we will guide you through the process of building, training, and evaluating a neural network for image classification. By the end of the worksheet, you will be able to:\n",
    "\n",
    "- Load and preprocess image data.\n",
    "- Build a neural network model using Keras.\n",
    "- Train the model on the dataset.\n",
    "- Evaluate the model's performance.\n",
    "- Save and visualize the results."
   ]
  },
  {
   "cell_type": "markdown",
   "metadata": {},
   "source": [
    "#### 1. Implementing a Neural Network\n",
    "\n",
    "##### 1.1 Installing Necessary Libraries\n",
    "First, we need to install some Python libraries that we'll use in this notebook. Comment the first line of the next block out if you want to see the output of the pip install.\n"
   ]
  },
  {
   "cell_type": "code",
   "execution_count": null,
   "metadata": {},
   "outputs": [],
   "source": [
    "%%capture\n",
    "%pip install tensorflow matplotlib scikit-learn"
   ]
  },
  {
   "cell_type": "markdown",
   "metadata": {},
   "source": [
    "##### 1.2 Import Necessary Libraries and Helpers\n",
    "\n",
    "Let's import the necessary libraries and helpers. The display function will help you display the images you create using the results from your model."
   ]
  },
  {
   "cell_type": "code",
   "execution_count": null,
   "metadata": {},
   "outputs": [],
   "source": [
    "import os\n",
    "import numpy as np\n",
    "import pandas as pd\n",
    "import matplotlib.pyplot as plt\n",
    "from tensorflow.keras import layers, models\n",
    "from tensorflow.keras.preprocessing import image\n",
    "from sklearn.model_selection import train_test_split\n",
    "import warnings\n",
    "\n",
    "# Suppress TensorFlow logging messages\n",
    "os.environ['TF_CPP_MIN_LOG_LEVEL'] = '3'  # Suppress TensorFlow messages\n",
    "\n",
    "# Suppress other warnings\n",
    "warnings.filterwarnings('ignore')"
   ]
  },
  {
   "cell_type": "code",
   "execution_count": null,
   "metadata": {},
   "outputs": [],
   "source": [
    "# Helper Functions DO NOT CHANGE\n",
    "# Function to plot images with predictions\n",
    "def plot_image(i, predictions_array, true_label, img):\n",
    "    predictions_array, true_label, img = predictions_array[i], true_label[i], img[i]\n",
    "    plt.grid(False)\n",
    "    plt.xticks([])\n",
    "    plt.yticks([])\n",
    "\n",
    "    plt.imshow(img, cmap=plt.cm.binary)\n",
    "\n",
    "    predicted_label = np.argmax(predictions_array)\n",
    "    if predicted_label == true_label:\n",
    "        color = 'blue'\n",
    "    else:\n",
    "        color = 'red'\n",
    "\n",
    "    plt.xlabel(f\"{predicted_label} ({true_label})\", color=color)"
   ]
  },
  {
   "cell_type": "markdown",
   "metadata": {},
   "source": [
    "##### 1.3 Loading and Processing Data\n",
    "\n",
    "Below is a code snippet used to load images from a data directory and preprocess them. Your task is to add comments to each line or block of code to explain what it does. This will help you understand the logic and purpose of each part of the code.\n",
    "\n",
    "Hint: If it's helpful try drawing out the pathways that the code creates (with the for and if statements). Here are a few different resources you can use: [General Python](https://docs.python.org/3/tutorial/), [OS module](https://docs.python.org/3/library/os.html), [Pillow (PIL Fork)](https://pillow.readthedocs.io/en/stable/), [NumPy](https://numpy.org/doc/), and [SKLearn](https://scikit-learn.org/dev/modules/generated/sklearn.model_selection.train_test_split.html)."
   ]
  },
  {
   "cell_type": "code",
   "execution_count": null,
   "metadata": {},
   "outputs": [],
   "source": [
    "# Function to load images from the data folder to be processed\n",
    "def load_data(data_dir):\n",
    "    images = [] \n",
    "    labels = [] \n",
    "    for label in range(10):  \n",
    "        label_dir = os.path.join(data_dir, str(label)) \n",
    "        if not os.path.exists(label_dir):\n",
    "            continue \n",
    "        for filename in os.listdir(label_dir): \n",
    "            img_path = os.path.join(label_dir, filename)\n",
    "            if img_path.endswith(('.png', '.jpg', '.jpeg', '.bmp')):\n",
    "                img = image.load_img(img_path, color_mode='grayscale', target_size=(28, 28))\n",
    "                img_array = image.img_to_array(img)\n",
    "                images.append(img_array)\n",
    "                labels.append(label)\n",
    "    return np.array(images), np.array(labels)\n",
    "\n",
    "# Function to normalize images and split data into training and testing sets\n",
    "def preprocess_data(images, labels):\n",
    "    images = images / 255.0\n",
    "    images = np.squeeze(images)\n",
    "    return train_test_split(images, labels, test_size=0.2, random_state=42)\n"
   ]
  },
  {
   "cell_type": "markdown",
   "metadata": {},
   "source": [
    "##### 1.4 Building the Model\n",
    "\n",
    "In this exercise, you will complete a function called build_model to construct a basic neural network model using the Keras library. The function should create and compile a neural network suitable for image classification. ou'll need to:\n",
    "1. Initialize the Model\n",
    "2. Add Layers to the Model\n",
    "\n",
    "You'll need three layers, a flatten layer (with the input size of 28, 28), a dense layer with 128 neurons and the ReLU activation function, and a dense layer with 10 neurons and the softmax activation function. \n",
    "\n",
    "Hint: Here's some resources to reference: [Initialize](https://keras.io/api/models/sequential/), [Flatten](https://keras.io/api/layers/reshaping_layers/flatten/), and [Dense](https://keras.io/api/layers/core_layers/dense/)"
   ]
  },
  {
   "cell_type": "code",
   "execution_count": null,
   "metadata": {},
   "outputs": [],
   "source": [
    "# Function to create and return the model\n",
    "def build_model():\n",
    "    model = \"\"\n",
    "    model.compile(optimizer='adam',\n",
    "                  loss='sparse_categorical_crossentropy',\n",
    "                  metrics=['accuracy'])\n",
    "    return model"
   ]
  },
  {
   "cell_type": "markdown",
   "metadata": {},
   "source": [
    "##### 1.5 Print/Save Results\n",
    "\n",
    "In this exercise, you will write a function called results_to_csv that takes in the true labels, predicted labels, and an optional filename. The function will create a DataFrame to store the results, print the DataFrame, and optionally save it to a CSV file.\n",
    "\n",
    "The DataFrame should have three columns: True Label, Predicted Label, and Correct.\n",
    "\n",
    "- The True Label column should contain the true labels of the test data.\n",
    "\n",
    "- The Predicted Label column should contain the predicted labels of the test data.\n",
    "\n",
    "- The Correct column should indicate whether each prediction was correct (True) or not (False).\n",
    "\n",
    "Hint: Here's some resources to check out: [DataFrames](https://pandas.pydata.org/) and [CSVs](https://pandas.pydata.org/docs/reference/api/pandas.DataFrame.to_csv.html)"
   ]
  },
  {
   "cell_type": "code",
   "execution_count": null,
   "metadata": {},
   "outputs": [],
   "source": [
    "def results_to_csv(true_labels, predicted_labels, filename=None):    \n",
    "    return results_df"
   ]
  },
  {
   "cell_type": "markdown",
   "metadata": {},
   "source": [
    "##### 1.6 Putting everything together\n",
    "\n",
    "In this exercise, you will complete a main function that ties together various components to train and evaluate a neural network model. The function will handle loading data, preprocessing, building and training the model, evaluating performance, and saving results. These are the steps you'll need to follow.\n",
    "\n",
    "1. Load Data\n",
    "2. Preprocess Data\n",
    "3. Build and Train Model\n",
    "4. Evaluate Model\n",
    "5. Make Predictions\n",
    "6. Save and Print Results\n",
    "\n",
    "Hint: Most of this is just calling the functions you've already written but here are a few resources for the parts we didn't write ourselves: [Model Functions](https://keras.io/api/models/model_training_apis/) Specifically check out the different method sections (such as fit, evaluate, and predict)."
   ]
  },
  {
   "cell_type": "code",
   "execution_count": null,
   "metadata": {},
   "outputs": [],
   "source": [
    "# Main function to execute the training and evaluation\n",
    "def main(data_dir, num_epochs):\n",
    "    if len(images) == 0:\n",
    "        print(\"No images found in the data directory. Please check your dataset.\")\n",
    "        return\n",
    "    \n",
    "    # Plotting a few test images with their predictions\n",
    "    num_rows = 1\n",
    "    num_cols = min(5, len(x_test))  # Adjust number of columns based on the size of test set\n",
    "    num_images = num_rows * num_cols\n",
    "    plt.figure(figsize=(2*num_cols, 2*num_rows))\n",
    "    for i in range(num_images):\n",
    "        plt.subplot(num_rows, num_cols, i+1)\n",
    "        plot_image(i, predictions, y_test, x_test)\n",
    "    plt.show()"
   ]
  },
  {
   "cell_type": "markdown",
   "metadata": {},
   "source": [
    "##### 1.7 Running the Model\n",
    "\n",
    "We've defined two variables for you below. data_dir is used to specify the directory where your image data is stored. This directory should contain the images you want to use for training. num_epochs refer to the number of epochs we want to use. An epoch refers to one complete pass through the entire dataset during training. Our recommendation is between 10-20 but play around with higher and lower numbers to get a better understanding of epochs.\n",
    "\n",
    "Set the correct directory and number of epochs you want to start with."
   ]
  },
  {
   "cell_type": "code",
   "execution_count": null,
   "metadata": {},
   "outputs": [],
   "source": [
    "# Define the data directory and number of epochs\n",
    "data_dir = \"\"  # Directory containing the images\n",
    "num_epochs = 0  # Number of epochs for training\n",
    "\n",
    "# Run the main function\n",
    "main(data_dir, num_epochs)"
   ]
  }
 ],
 "metadata": {
  "kernelspec": {
   "display_name": "Python 3",
   "language": "python",
   "name": "python3"
  },
  "language_info": {
   "codemirror_mode": {
    "name": "ipython",
    "version": 3
   },
   "file_extension": ".py",
   "mimetype": "text/x-python",
   "name": "python",
   "nbconvert_exporter": "python",
   "pygments_lexer": "ipython3",
   "version": "3.10.12"
  }
 },
 "nbformat": 4,
 "nbformat_minor": 2
}
